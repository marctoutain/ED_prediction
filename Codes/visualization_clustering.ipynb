{
 "cells": [
  {
   "cell_type": "code",
   "execution_count": null,
   "id": "6402c2d8",
   "metadata": {},
   "outputs": [],
   "source": [
    "import pandas as pd\n",
    "import seaborn as sns\n",
    "from sklearn.preprocessing import StandardScaler\n",
    "from sklearn.cluster import KMeans\n",
    "import numpy as np\n",
    "import matplotlib.pyplot as plt\n",
    "\n",
    "df_std.read_excel(\"Z:\\\\Documents\\\\GitHub\\\\ED_prediction\\\\Results\\\\df_std_kmeans.xlsx\")\n",
    "\n",
    "#df_temp = pd.read_excel(\"Z:\\\\Documents\\\\GitHub\\\\ED_prediction\\\\Data\\\\df_eat26.xlsx\")\n",
    "\n",
    "#X_std = StandardScaler().fit_transform(df_temp)\n",
    "\n",
    "#df_eat26 = pd.DataFrame(X_std,columns=df_temp.columns)\n",
    "\n",
    "#df_eat26 = pd.read_excel(\"Z:\\\\Documents\\\\GitHub\\\\ED_prediction\\\\Data\\\\df_eat26.xlsx\")\n",
    "\n",
    "#df_std = pd.concat([df_std,df_eat26], axis = 1)\n",
    "\n",
    "#If you want, extract your n clusters in n Dataframe and check if the shape is correct\n",
    "\n",
    "df_std_0 = df_std[df_std[\"cluster\"]==0]\n",
    "df_std_0.to_excel(\"Z:\\Documents\\Python\\_clustering\\df_std_cl0.xlsx\")\n",
    "#print(df_std_0.shape)\n",
    "#df_mean_cl0=df_std_0.mean()\n",
    "#print(df_mean_cl0)\n",
    "df_std_1 = df_std[df_std[\"cluster\"]==1]\n",
    "df_std_1.to_excel(\"Z:\\Documents\\Python\\_clustering\\df_std_cl1.xlsx\")\n",
    "\n",
    "#print(df_std_1.shape)\n",
    "#df_mean_cl1=df_std_1.mean()\n",
    "#print(df_mean_cl1)\n",
    "\n",
    "print(df_std_0.shape)\n",
    "\n",
    "#df_means = pd.read_excel(\"Z:\\Documents\\Python\\_clustering\\df_std_means.xlsx\")\n",
    "\n",
    "#df_means.dropna()\n",
    "#print(df_means)\n",
    "\n",
    "#df_means = df_means.melt(id_vars=['cluster'])\n",
    "#print(df_means)\n",
    "\n",
    "#Transpose raws and columns in two columns (variables and values) + one column that we name 'cluster'\n",
    "df_std_melted = df_std.melt(id_vars=['cluster'])\n",
    "\n",
    "#Verification\n",
    "print(df_std_melted.head())\n",
    "print(df_std_melted.shape)"
   ]
  }
 ],
 "metadata": {
  "kernelspec": {
   "display_name": "Python 3",
   "language": "python",
   "name": "python3"
  },
  "language_info": {
   "codemirror_mode": {
    "name": "ipython",
    "version": 3
   },
   "file_extension": ".py",
   "mimetype": "text/x-python",
   "name": "python",
   "nbconvert_exporter": "python",
   "pygments_lexer": "ipython3",
   "version": "3.8.8"
  }
 },
 "nbformat": 4,
 "nbformat_minor": 5
}

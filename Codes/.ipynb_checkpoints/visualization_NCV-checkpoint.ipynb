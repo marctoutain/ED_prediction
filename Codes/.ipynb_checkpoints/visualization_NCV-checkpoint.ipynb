{
 "cells": [
  {
   "cell_type": "code",
   "execution_count": null,
   "id": "606982a7",
   "metadata": {},
   "outputs": [],
   "source": [
    "import seaborn as sns\n",
    "import numpy as np\n",
    "import matplotlib.pyplot as plt\n",
    "import pandas as pd\n",
    "\n",
    "df_dataVP = pd.DataFrame.from_dict(score_VP)\n",
    "print(df_dataVP)\n",
    "sns.set_style('whitegrid')\n",
    "fig, ax = plt.subplots(figsize=(15, 9))\n",
    "_ = plt.xticks(rotation=45, ha='right')\n",
    "\n",
    "sns.violinplot(data = df_dataVP)"
   ]
  }
 ],
 "metadata": {
  "kernelspec": {
   "display_name": "Python 3",
   "language": "python",
   "name": "python3"
  },
  "language_info": {
   "codemirror_mode": {
    "name": "ipython",
    "version": 3
   },
   "file_extension": ".py",
   "mimetype": "text/x-python",
   "name": "python",
   "nbconvert_exporter": "python",
   "pygments_lexer": "ipython3",
   "version": "3.8.8"
  }
 },
 "nbformat": 4,
 "nbformat_minor": 5
}

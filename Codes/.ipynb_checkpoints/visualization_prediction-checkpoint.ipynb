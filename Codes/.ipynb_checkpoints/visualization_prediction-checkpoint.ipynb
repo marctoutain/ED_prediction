{
 "cells": [
  {
   "cell_type": "code",
   "execution_count": null,
   "id": "fc5e9a67",
   "metadata": {},
   "outputs": [],
   "source": [
    "import seaborn as sns\n",
    "import matplotlib\n",
    "from matplotlib import pyplot as plt\n",
    "\n",
    "#define a catplot with variable on axis X and value on axis Y for each different value in column \"cluster\" (hue=\"cluster\") \n",
    "g = sns.catplot(height=10, aspect=2, color='blue', kind=\"bar\", data=dff)\n",
    "\n",
    "#Rotate the x ticks for 45 degrees\n",
    "_ = plt.xticks(rotation=90)\n",
    "_ = plt.yticks(rotation=90)\n",
    "_ = plt.axhline(y=0.1,color='red', linestyle='--')\n",
    "_ = plt.axhline(y=-0.1,color='red', linestyle='--')\n",
    "_ = plt.axhline(y=0.2,color='red')\n",
    "_ = plt.axhline(y=-0.2,color='red')\n",
    "\n",
    "#show the plot\n",
    "plt.show()"
   ]
  }
 ],
 "metadata": {
  "kernelspec": {
   "display_name": "Python 3",
   "language": "python",
   "name": "python3"
  },
  "language_info": {
   "codemirror_mode": {
    "name": "ipython",
    "version": 3
   },
   "file_extension": ".py",
   "mimetype": "text/x-python",
   "name": "python",
   "nbconvert_exporter": "python",
   "pygments_lexer": "ipython3",
   "version": "3.8.8"
  }
 },
 "nbformat": 4,
 "nbformat_minor": 5
}
